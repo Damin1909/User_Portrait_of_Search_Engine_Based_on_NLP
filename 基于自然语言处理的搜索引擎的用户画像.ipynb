{
 "cells": [
  {
   "cell_type": "markdown",
   "metadata": {},
   "source": [
    "# NLP实战项目 -- 基于自然语言处理的搜索引擎公司用户画像\n",
    "\n",
    "## 数据读取"
   ]
  },
  {
   "cell_type": "code",
   "execution_count": 2,
   "metadata": {
    "ExecuteTime": {
     "end_time": "2020-03-27T10:43:33.474469Z",
     "start_time": "2020-03-27T10:43:23.872625Z"
    }
   },
   "outputs": [],
   "source": [
    "import warnings\n",
    "warnings.filterwarnings(\"ignore\")\n",
    "import pandas as pd\n",
    "import re\n",
    "import jieba\n",
    "import numpy as np\n",
    "import seaborn as sns\n",
    "import tqdm"
   ]
  },
  {
   "cell_type": "code",
   "execution_count": 3,
   "metadata": {
    "ExecuteTime": {
     "end_time": "2020-03-27T10:44:41.456573Z",
     "start_time": "2020-03-27T10:44:33.755688Z"
    }
   },
   "outputs": [],
   "source": [
    "train = pd.read_csv(\"./data/train.csv\", sep=\"###__###\",header = None,encoding=\"utf-8\")\n",
    "test = pd.read_csv(\"./data/test.csv\", sep=\"###__###\",header = None,encoding=\"utf-8\")"
   ]
  },
  {
   "cell_type": "markdown",
   "metadata": {},
   "source": [
    "### 数据的列名 "
   ]
  },
  {
   "cell_type": "code",
   "execution_count": 15,
   "metadata": {
    "ExecuteTime": {
     "end_time": "2020-03-27T10:58:46.438906Z",
     "start_time": "2020-03-27T10:58:46.433919Z"
    }
   },
   "outputs": [],
   "source": [
    "train.columns = ['ID', 'Age', 'Gender', 'Education', 'Query_List']\n",
    "test.columns = [\"ID\",\"Query_List\"]"
   ]
  },
  {
   "cell_type": "code",
   "execution_count": 16,
   "metadata": {
    "ExecuteTime": {
     "end_time": "2020-03-27T10:58:47.148012Z",
     "start_time": "2020-03-27T10:58:47.143024Z"
    }
   },
   "outputs": [
    {
     "name": "stdout",
     "output_type": "stream",
     "text": [
      "train维度: (100000, 5) \n",
      "test维度: (100000, 2)\n"
     ]
    }
   ],
   "source": [
    "print(\"train维度:\",train.shape,\"\\ntest维度:\",test.shape)"
   ]
  },
  {
   "cell_type": "code",
   "execution_count": 17,
   "metadata": {
    "ExecuteTime": {
     "end_time": "2020-03-27T10:58:48.083512Z",
     "start_time": "2020-03-27T10:58:48.072541Z"
    }
   },
   "outputs": [
    {
     "name": "stdout",
     "output_type": "stream",
     "text": [
      "train的数据结构:\n",
      "                                  ID  Age  Gender  Education  \\\n",
      "0  22DD920316420BE2DF8D6EE651BA174B    1       1          4   \n",
      "1  43CC3AF5A8D6430A3B572337A889AFE4    2       1          3   \n",
      "2  E97654BFF5570E2CCD433EA6128EAC19    4       1          0   \n",
      "3  6931EFC26D229CCFCEA125D3F3C21E57    4       2          3   \n",
      "4  E780470C3BB0D340334BD08CDCC3C71A    2       2          4   \n",
      "\n",
      "                                          Query_List  \n",
      "0  柔和双沟\\t女生\\t中财网首页 财经\\thttp://pan.baidu.com/s/1pl...  \n",
      "1  广州厨宝烤箱\\t世情薄,人情恶,雨送黄昏花易落,晓风干,泪痕\\t厦门酒店用品批发市场\\t我只...  \n",
      "2  钻石之泪耳机\\t盘锦到沈阳\\t旅顺公交\\t辽宁阜新车牌\\tbaidu\\tk715\\tk716...  \n",
      "3  最受欢迎狗狗排行榜\\t舶怎么读\\t场景描 写范例\\t三维绘图软件\\t枣和酸奶能一起吃吗\\t好...  \n",
      "4  干槽症能自愈吗\\t太太万岁叶舒心去没去美国\\t干槽症\\t右眼皮下面一直跳是怎么回事\\t麦当劳...  \n",
      "############################################################\n",
      "test的数据结构:\n",
      "                                  ID  \\\n",
      "0  ED89D43B9F602F96D96C25255F7C228C   \n",
      "1  83C3B7B4AAF8074655A8079F561A76D6   \n",
      "2  CA9F675A024FB2353849350A35CF8B0F   \n",
      "3  DE45B5C4E57AAEBCF3FDFA2A774093BF   \n",
      "4  406A681FB3DF81EC0E561796AE50AE50   \n",
      "\n",
      "                                          Query_List  \n",
      "0  陈学冬将出的作品\\t刘昊然与谭松韵\\t211学校的分数线\\t谁唱的味道好听\\t吻戏是真吻还是...  \n",
      "1  e的0.0052次方\\tqq怎么快速提现\\t绝色倾城飞烟\\t马克思主义基本原理概论\\t康世恩...  \n",
      "2  黑暗文\\tlpl夏季赛\\t大富豪电玩城\\t英雄联盟之电竞称王\\t手机怎么扫描手机上的二维码\\...  \n",
      "3  中秋水库钓鱼\\t鱼竿\\t用蚯蚓钓鱼怎样调漂\\t传统钓\\t3号鱼钩\\t鲫鱼汤的做法大全\\t鱼饵...  \n",
      "4  号码吉凶\\t退休干部死后配偶\\t郫县有哪些大学\\t胜利油田属于中石化还是中石油\\t苏珊米勒狮...  \n"
     ]
    }
   ],
   "source": [
    "print(\"train的数据结构:\\n\",train.head())\n",
    "print(\"#\"*60)\n",
    "print(\"test的数据结构:\\n\",test.head())"
   ]
  },
  {
   "cell_type": "markdown",
   "metadata": {},
   "source": [
    "## 数据预处理"
   ]
  },
  {
   "cell_type": "markdown",
   "metadata": {},
   "source": [
    "上面已经对文本进行了**分词**以及**去停用词**处理，这是在做`NLP`的必要的数据处理，然而，对于本任务来说，**空格**、**停用词**中包含的信息可能还不小，比如，高学历的人在查询时更大的可能会敲如逗号、空格，而文化程度低的人，可能会输入一大串，那么如何进行数据预处理呢？\n",
    "\n",
    "1. 信息粒度\n",
    "\n",
    "- 可以有不同的信息粒度：字、词、短语(n-gram)\n",
    "- 另外分词工具库也可以用jieba以外的工具，比如THULC和NLPIR等等\n",
    "\n",
    "2. 人工特征提示\n",
    "\n",
    "除去本身文本的信息，还有一些人工特征，也会有作用，大家可以考虑加入的形态。比如：\n",
    "\n",
    "  - 查询query个数\n",
    "  - 查询query的平均长度\n",
    "  - 查询query的最大长度\n",
    "  - 有空格的query占总查询的比例\n",
    "  - 英文查询词的比例\n",
    "  - ...\n",
    "\n",
    "3. 其他特征\n",
    "\n",
    "- 年龄在19岁至23岁区间的自然人会有较多的搜索行为与大学生活、社交等主题有关\n",
    "- 男性相比女性会在军事、汽车等主题有更多的搜索行为\n",
    "- 高学历人群会更加倾向于获取社会、经济等主题的信息\n",
    "\n",
    "### 年龄类的数据预处理\n",
    "\n",
    "和年龄相关的信息，我们能想到的有:\n",
    "- 关注点（词汇主题）：比如年轻人关注的是明星、歌星、歌曲之类的信息，中老年人呢，关注的可能更多的是养生，生孩子（男女都考虑，到了那个年纪，谁都关注）；【所以，是否可以使用主题模型呢，或者说，统计词频截取一定词频以上的词】\n",
    "- 搜索信息量：年轻人可能搜索更多一点，老年人搜索更少一点；【这是否需要另外进行判别呢】\n",
    "- 19-23岁的人更多的关注的校园生活，更大岁数的人更多的关注投资\n",
    "\n",
    "### 性别类标签\n",
    "\n",
    "性别类数据\n",
    "和性别相关的信息，如：\n",
    "- 关注点：男生更关注军事、汽车等主题信息，女生或更多的在化妆、美容\\n\",\n",
    "\n",
    "### 教育水平标签\n",
    "\n",
    "和教育时评相关的信息，如：\n",
    "- 输入信息的标准程度，有无空格、逗号\\n\",\n",
    "- 查询信息里面的英文占比\\n\",\n",
    "- 单条查询长度\\n\",\n",
    "- 查询个数\\n\",\n",
    "- 里面的网站、邮箱占比（基本上一个网址或者一个邮箱就是一条搜索记录）\n",
    "\n",
    "### 进一步的策略\n",
    "\n",
    "首先，我们可以对数据进行分析，比如，就和参考资料中给定的那样，\n",
    "- 每个ID的总的查询数目与各个标签之间的关系；\n",
    "- 每个ID查询中所有查询的平均长度与各个类别之间的关系；\n",
    "- 每个ID的最大查询长度与各个类别之间的关系；\n",
    "- 存在空格、逗号的查询占总查询的比例与各个类别之间的关系；\n",
    "- 存在英语词汇的查询个数占总个数的比例与各个类别之间的关系\n",
    "- 存在网址、邮箱的查询占总查询的比例与各个类别之间的关系\n",
    "\n",
    "其次，我们可以搞一个正演，取各个类别对应的词汇出现频率的前1000个诸位主题词汇"
   ]
  },
  {
   "cell_type": "markdown",
   "metadata": {},
   "source": [
    "### 文本数据中信息的提取"
   ]
  },
  {
   "cell_type": "code",
   "execution_count": 26,
   "metadata": {
    "ExecuteTime": {
     "end_time": "2020-03-27T11:22:48.161840Z",
     "start_time": "2020-03-27T11:21:35.433164Z"
    }
   },
   "outputs": [],
   "source": [
    "# 提取每个ID的总的查询数目\n",
    "train.loc[:,\"Query_Sum_num\"] = train.loc[:,\"Query_List\"].transform(lambda x: len(x.split(\"\\t\")))\n",
    "train.loc[:,\"avg_query_len\"] = train.loc[:,\"Query_List\"].transform(lambda x: np.mean([len(i) for i in x.split(\"\\t\")]))\n",
    "train.loc[:,\"max_query_len\"] = train.loc[:,\"Query_List\"].transform(lambda x: np.max([len(i) for i in x.split(\"\\t\")]))\n",
    "train.loc[:,\"exist_space_or_comma_query_rate\"] = train.loc[:,\"Query_List\"].transform(lambda x: np.sum([1 for i in x.split(\"\\t\") if \" \" in list(i) or \",\" in list(i)])/len(x.split(\"\\t\")))\n",
    "train.loc[:,\"exist_english_query_rate\"] = train.loc[:,\"Query_List\"].transform(lambda x: np.sum([1 for i in x.split(\"\\t\")  if re.search(\"[A-Za-z]+\",i)])/len(x.split(\"\\t\")))\n",
    "train.loc[:,\"exist_web_mail_query_rate\"] = train.loc[:,\"Query_List\"].transform(lambda x: np.sum([1 for i in x.split(\"\\t\")  if re.search(\"|\".join([\"http[a-z1-9:.]+\",\"[a-zA-Z1-9]+@[a-zA-Z1-9.]+\"]),i)])/len(x.split(\"\\t\")))"
   ]
  },
  {
   "cell_type": "code",
   "execution_count": 28,
   "metadata": {
    "ExecuteTime": {
     "end_time": "2020-03-27T11:24:12.193297Z",
     "start_time": "2020-03-27T11:24:12.184307Z"
    }
   },
   "outputs": [
    {
     "name": "stdout",
     "output_type": "stream",
     "text": [
      "                                 ID  Age  Gender  Education  \\\n",
      "0  22DD920316420BE2DF8D6EE651BA174B    1       1          4   \n",
      "1  43CC3AF5A8D6430A3B572337A889AFE4    2       1          3   \n",
      "2  E97654BFF5570E2CCD433EA6128EAC19    4       1          0   \n",
      "3  6931EFC26D229CCFCEA125D3F3C21E57    4       2          3   \n",
      "4  E780470C3BB0D340334BD08CDCC3C71A    2       2          4   \n",
      "\n",
      "                                          Query_List  Query_Sum_num  \\\n",
      "0  柔和双沟\\t女生\\t中财网首页 财经\\thttp://pan.baidu.com/s/1pl...            275   \n",
      "1  广州厨宝烤箱\\t世情薄,人情恶,雨送黄昏花易落,晓风干,泪痕\\t厦门酒店用品批发市场\\t我只...            186   \n",
      "2  钻石之泪耳机\\t盘锦到沈阳\\t旅顺公交\\t辽宁阜新车牌\\tbaidu\\tk715\\tk716...            104   \n",
      "3  最受欢迎狗狗排行榜\\t舶怎么读\\t场景描 写范例\\t三维绘图软件\\t枣和酸奶能一起吃吗\\t好...            173   \n",
      "4  干槽症能自愈吗\\t太太万岁叶舒心去没去美国\\t干槽症\\t右眼皮下面一直跳是怎么回事\\t麦当劳...            117   \n",
      "\n",
      "   avg_query_len  max_query_len  exist_space_or_comma_query_rate  \\\n",
      "0       8.654545             40                         0.036364   \n",
      "1       8.838710             28                         0.091398   \n",
      "2       5.740385             21                         0.019231   \n",
      "3       6.502890             20                         0.028902   \n",
      "4       8.649573             20                         0.059829   \n",
      "\n",
      "   exist_english_query_rate  exist_web_mail_query_rate  \n",
      "0                  0.105455                   0.058182  \n",
      "1                  0.053763                   0.000000  \n",
      "2                  0.125000                   0.000000  \n",
      "3                  0.034682                   0.000000  \n",
      "4                  0.119658                   0.000000  \n"
     ]
    }
   ],
   "source": [
    "print(train.head())"
   ]
  },
  {
   "cell_type": "markdown",
   "metadata": {},
   "source": [
    "### 各个信息与标签之间的关系"
   ]
  },
  {
   "cell_type": "code",
   "execution_count": 35,
   "metadata": {
    "ExecuteTime": {
     "end_time": "2020-03-27T12:11:55.216908Z",
     "start_time": "2020-03-27T12:11:55.210924Z"
    }
   },
   "outputs": [
    {
     "name": "stdout",
     "output_type": "stream",
     "text": [
      "train的列名： Index(['ID', 'Age', 'Gender', 'Education', 'Query_List', 'Query_Sum_num',\n",
      "       'avg_query_len', 'max_query_len', 'exist_space_or_comma_query_rate',\n",
      "       'exist_english_query_rate', 'exist_web_mail_query_rate'],\n",
      "      dtype='object')\n"
     ]
    }
   ],
   "source": [
    "print(\"train的列名：\",train.columns)"
   ]
  },
  {
   "cell_type": "code",
   "execution_count": 34,
   "metadata": {
    "ExecuteTime": {
     "end_time": "2020-03-27T12:10:19.757217Z",
     "start_time": "2020-03-27T12:10:14.091336Z"
    }
   },
   "outputs": [
    {
     "data": {
      "text/plain": [
       "<seaborn.axisgrid.PairGrid at 0x1ad04adb7f0>"
      ]
     },
     "execution_count": 34,
     "metadata": {},
     "output_type": "execute_result"
    },
    {
     "data": {
      "image/png": "[encoded data removed]",
      "text/plain": [
       "<Figure size 810x360 with 3 Axes>"
      ]
     },
     "metadata": {
      "needs_background": "light"
     },
     "output_type": "display_data"
    }
   ],
   "source": [
    "# Query_Sum_num与各个标签之间的关系\n",
    "g = sns.PairGrid(train,\n",
    "                 x_vars=[\"Age\", \"Gender\", \"Education\"],\n",
    "                 y_vars=[\"Query_Sum_num\"],\n",
    "                 aspect=.75, size=5)\n",
    "g.map(sns.barplot, palette=\"bright\")"
   ]
  },
  {
   "cell_type": "code",
   "execution_count": 36,
   "metadata": {
    "ExecuteTime": {
     "end_time": "2020-03-27T12:12:23.959446Z",
     "start_time": "2020-03-27T12:12:18.392350Z"
    }
   },
   "outputs": [
    {
     "data": {
      "text/plain": [
       "<seaborn.axisgrid.PairGrid at 0x1ad05d56278>"
      ]
     },
     "execution_count": 36,
     "metadata": {},
     "output_type": "execute_result"
    },
    {
     "data": {
      "image/png": "[encoded data removed]",
      "text/plain": [
       "<Figure size 810x360 with 3 Axes>"
      ]
     },
     "metadata": {
      "needs_background": "light"
     },
     "output_type": "display_data"
    }
   ],
   "source": [
    "# avg_query_len与各个标签之间的关系\n",
    "g = sns.PairGrid(train,\n",
    "                 x_vars=[\"Age\", \"Gender\", \"Education\"],\n",
    "                 y_vars=[\"avg_query_len\"],\n",
    "                 aspect=.75, size=5)\n",
    "g.map(sns.barplot, palette=\"bright\")"
   ]
  },
  {
   "cell_type": "code",
   "execution_count": 37,
   "metadata": {
    "ExecuteTime": {
     "end_time": "2020-03-27T12:13:15.204177Z",
     "start_time": "2020-03-27T12:13:09.627071Z"
    }
   },
   "outputs": [
    {
     "data": {
      "text/plain": [
       "<seaborn.axisgrid.PairGrid at 0x1ad05fa8cc0>"
      ]
     },
     "execution_count": 37,
     "metadata": {},
     "output_type": "execute_result"
    },
    {
     "data": {
      "image/png": "[encoded data removed]",
      "text/plain": [
       "<Figure size 810x360 with 3 Axes>"
      ]
     },
     "metadata": {
      "needs_background": "light"
     },
     "output_type": "display_data"
    }
   ],
   "source": [
    "# max_query_len与各个标签之间的关系\n",
    "g = sns.PairGrid(train,\n",
    "                 x_vars=[\"Age\", \"Gender\", \"Education\"],\n",
    "                 y_vars=[\"max_query_len\"],\n",
    "                 aspect=.75, size=5)\n",
    "g.map(sns.barplot, palette=\"bright\")"
   ]
  },
  {
   "cell_type": "code",
   "execution_count": 38,
   "metadata": {
    "ExecuteTime": {
     "end_time": "2020-03-27T12:13:53.869790Z",
     "start_time": "2020-03-27T12:13:48.204932Z"
    }
   },
   "outputs": [
    {
     "data": {
      "text/plain": [
       "<seaborn.axisgrid.PairGrid at 0x1ad062e7438>"
      ]
     },
     "execution_count": 38,
     "metadata": {},
     "output_type": "execute_result"
    },
    {
     "data": {
      "image/png": "[encoded data removed]",
      "text/plain": [
       "<Figure size 810x360 with 3 Axes>"
      ]
     },
     "metadata": {
      "needs_background": "light"
     },
     "output_type": "display_data"
    }
   ],
   "source": [
    "# exist_space_or_comma_query_rate与各个标签之间的关系\n",
    "g = sns.PairGrid(train,\n",
    "                 x_vars=[\"Age\", \"Gender\", \"Education\"],\n",
    "                 y_vars=[\"exist_space_or_comma_query_rate\"],\n",
    "                 aspect=.75, size=5)\n",
    "g.map(sns.barplot, palette=\"bright\")"
   ]
  },
  {
   "cell_type": "code",
   "execution_count": 39,
   "metadata": {
    "ExecuteTime": {
     "end_time": "2020-03-27T12:15:10.832460Z",
     "start_time": "2020-03-27T12:15:05.179562Z"
    }
   },
   "outputs": [
    {
     "data": {
      "text/plain": [
       "<seaborn.axisgrid.PairGrid at 0x1ad06d4d518>"
      ]
     },
     "execution_count": 39,
     "metadata": {},
     "output_type": "execute_result"
    },
    {
     "data": {
      "image/png": "[encoded data removed]",
      "text/plain": [
       "<Figure size 810x360 with 3 Axes>"
      ]
     },
     "metadata": {
      "needs_background": "light"
     },
     "output_type": "display_data"
    }
   ],
   "source": [
    "# exist_english_query_rate与各个标签之间的关系\n",
    "g = sns.PairGrid(train,\n",
    "                 x_vars=[\"Age\", \"Gender\", \"Education\"],\n",
    "                 y_vars=[\"exist_english_query_rate\"],\n",
    "                 aspect=.75, size=5)\n",
    "g.map(sns.barplot, palette=\"bright\")"
   ]
  },
  {
   "cell_type": "code",
   "execution_count": 40,
   "metadata": {
    "ExecuteTime": {
     "end_time": "2020-03-27T12:16:08.467045Z",
     "start_time": "2020-03-27T12:16:02.901894Z"
    }
   },
   "outputs": [
    {
     "data": {
      "text/plain": [
       "<seaborn.axisgrid.PairGrid at 0x1ad06de0978>"
      ]
     },
     "execution_count": 40,
     "metadata": {},
     "output_type": "execute_result"
    },
    {
     "data": {
      "image/png": "[encoded data removed]",
      "text/plain": [
       "<Figure size 810x360 with 3 Axes>"
      ]
     },
     "metadata": {
      "needs_background": "light"
     },
     "output_type": "display_data"
    }
   ],
   "source": [
    "# exist_web_mail_query_rate与各个标签之间的关系\n",
    "g = sns.PairGrid(train,\n",
    "                 x_vars=[\"Age\", \"Gender\", \"Education\"],\n",
    "                 y_vars=[\"exist_web_mail_query_rate\"],\n",
    "                 aspect=.75, size=5)\n",
    "g.map(sns.barplot, palette=\"bright\")"
   ]
  },
  {
   "cell_type": "markdown",
   "metadata": {},
   "source": [
    "###  读取停用词"
   ]
  },
  {
   "cell_type": "code",
   "execution_count": 23,
   "metadata": {
    "ExecuteTime": {
     "end_time": "2020-03-27T11:14:08.548433Z",
     "start_time": "2020-03-27T11:14:08.539457Z"
    }
   },
   "outputs": [],
   "source": [
    "# 读取停用词\n",
    "stopwords = pd.read_csv(\"./data/stopwords/cn_stopwords.txt\",names=[\"stopwords\"],sep=\"\\t\",encoding=\"utf-8\")\n",
    "stopwords = stopwords[\"stopwords\"].values.tolist()"
   ]
  },
  {
   "cell_type": "code",
   "execution_count": 24,
   "metadata": {
    "ExecuteTime": {
     "end_time": "2020-03-27T11:14:09.120059Z",
     "start_time": "2020-03-27T11:14:09.115072Z"
    }
   },
   "outputs": [
    {
     "data": {
      "text/plain": [
       "['不成', '不拘', '不料', '不是', '不比', '不然', '不特', '不独', '不管', '不至于']"
      ]
     },
     "execution_count": 24,
     "metadata": {},
     "output_type": "execute_result"
    }
   ],
   "source": [
    "stopwords[50:60]"
   ]
  },
  {
   "cell_type": "markdown",
   "metadata": {},
   "source": [
    "### 数据中提取高频词汇"
   ]
  },
  {
   "cell_type": "code",
   "execution_count": 57,
   "metadata": {
    "ExecuteTime": {
     "end_time": "2020-03-27T13:04:08.666037Z",
     "start_time": "2020-03-27T13:04:08.594231Z"
    }
   },
   "outputs": [
    {
     "data": {
      "text/html": [
       "<div>\n",
       "<style scoped>\n",
       "    .dataframe tbody tr th:only-of-type {\n",
       "        vertical-align: middle;\n",
       "    }\n",
       "\n",
       "    .dataframe tbody tr th {\n",
       "        vertical-align: top;\n",
       "    }\n",
       "\n",
       "    .dataframe thead th {\n",
       "        text-align: right;\n",
       "    }\n",
       "</style>\n",
       "<table border=\"1\" class=\"dataframe\">\n",
       "  <thead>\n",
       "    <tr style=\"text-align: right;\">\n",
       "      <th></th>\n",
       "      <th>ID</th>\n",
       "      <th>Age</th>\n",
       "      <th>Gender</th>\n",
       "      <th>Education</th>\n",
       "      <th>Query_List</th>\n",
       "      <th>Query_Sum_num</th>\n",
       "      <th>avg_query_len</th>\n",
       "      <th>max_query_len</th>\n",
       "      <th>exist_space_or_comma_query_rate</th>\n",
       "      <th>exist_english_query_rate</th>\n",
       "      <th>exist_web_mail_query_rate</th>\n",
       "      <th>count_word</th>\n",
       "    </tr>\n",
       "  </thead>\n",
       "  <tbody>\n",
       "    <tr>\n",
       "      <th>0</th>\n",
       "      <td>22DD920316420BE2DF8D6EE651BA174B</td>\n",
       "      <td>1</td>\n",
       "      <td>1</td>\n",
       "      <td>4</td>\n",
       "      <td>柔和双沟\\t女生\\t中财网首页 财经\\thttp://pan.baidu.com/s/1pl...</td>\n",
       "      <td>275</td>\n",
       "      <td>8.654545</td>\n",
       "      <td>40</td>\n",
       "      <td>0.036364</td>\n",
       "      <td>0.105455</td>\n",
       "      <td>0.058182</td>\n",
       "      <td>柔和 双沟 女生 中财网 首页 财经 周公 解梦 大全 查询 2345 曹云金 再讽 郭德纲...</td>\n",
       "    </tr>\n",
       "    <tr>\n",
       "      <th>1</th>\n",
       "      <td>43CC3AF5A8D6430A3B572337A889AFE4</td>\n",
       "      <td>2</td>\n",
       "      <td>1</td>\n",
       "      <td>3</td>\n",
       "      <td>广州厨宝烤箱\\t世情薄,人情恶,雨送黄昏花易落,晓风干,泪痕\\t厦门酒店用品批发市场\\t我只...</td>\n",
       "      <td>186</td>\n",
       "      <td>8.838710</td>\n",
       "      <td>28</td>\n",
       "      <td>0.091398</td>\n",
       "      <td>0.053763</td>\n",
       "      <td>0.000000</td>\n",
       "      <td>柔和 双沟 女生 中财网 首页 财经 周公 解梦 大全 查询 2345 曹云金 再讽 郭德纲...</td>\n",
       "    </tr>\n",
       "    <tr>\n",
       "      <th>2</th>\n",
       "      <td>E97654BFF5570E2CCD433EA6128EAC19</td>\n",
       "      <td>4</td>\n",
       "      <td>1</td>\n",
       "      <td>0</td>\n",
       "      <td>钻石之泪耳机\\t盘锦到沈阳\\t旅顺公交\\t辽宁阜新车牌\\tbaidu\\tk715\\tk716...</td>\n",
       "      <td>104</td>\n",
       "      <td>5.740385</td>\n",
       "      <td>21</td>\n",
       "      <td>0.019231</td>\n",
       "      <td>0.125000</td>\n",
       "      <td>0.000000</td>\n",
       "      <td>柔和 双沟 女生 中财网 首页 财经 周公 解梦 大全 查询 2345 曹云金 再讽 郭德纲...</td>\n",
       "    </tr>\n",
       "    <tr>\n",
       "      <th>3</th>\n",
       "      <td>6931EFC26D229CCFCEA125D3F3C21E57</td>\n",
       "      <td>4</td>\n",
       "      <td>2</td>\n",
       "      <td>3</td>\n",
       "      <td>最受欢迎狗狗排行榜\\t舶怎么读\\t场景描 写范例\\t三维绘图软件\\t枣和酸奶能一起吃吗\\t好...</td>\n",
       "      <td>173</td>\n",
       "      <td>6.502890</td>\n",
       "      <td>20</td>\n",
       "      <td>0.028902</td>\n",
       "      <td>0.034682</td>\n",
       "      <td>0.000000</td>\n",
       "      <td>柔和 双沟 女生 中财网 首页 财经 周公 解梦 大全 查询 2345 曹云金 再讽 郭德纲...</td>\n",
       "    </tr>\n",
       "    <tr>\n",
       "      <th>4</th>\n",
       "      <td>E780470C3BB0D340334BD08CDCC3C71A</td>\n",
       "      <td>2</td>\n",
       "      <td>2</td>\n",
       "      <td>4</td>\n",
       "      <td>干槽症能自愈吗\\t太太万岁叶舒心去没去美国\\t干槽症\\t右眼皮下面一直跳是怎么回事\\t麦当劳...</td>\n",
       "      <td>117</td>\n",
       "      <td>8.649573</td>\n",
       "      <td>20</td>\n",
       "      <td>0.059829</td>\n",
       "      <td>0.119658</td>\n",
       "      <td>0.000000</td>\n",
       "      <td>柔和 双沟 女生 中财网 首页 财经 周公 解梦 大全 查询 2345 曹云金 再讽 郭德纲...</td>\n",
       "    </tr>\n",
       "  </tbody>\n",
       "</table>\n",
       "</div>"
      ],
      "text/plain": [
       "                                 ID  Age  Gender  Education  \\\n",
       "0  22DD920316420BE2DF8D6EE651BA174B    1       1          4   \n",
       "1  43CC3AF5A8D6430A3B572337A889AFE4    2       1          3   \n",
       "2  E97654BFF5570E2CCD433EA6128EAC19    4       1          0   \n",
       "3  6931EFC26D229CCFCEA125D3F3C21E57    4       2          3   \n",
       "4  E780470C3BB0D340334BD08CDCC3C71A    2       2          4   \n",
       "\n",
       "                                          Query_List  Query_Sum_num  \\\n",
       "0  柔和双沟\\t女生\\t中财网首页 财经\\thttp://pan.baidu.com/s/1pl...            275   \n",
       "1  广州厨宝烤箱\\t世情薄,人情恶,雨送黄昏花易落,晓风干,泪痕\\t厦门酒店用品批发市场\\t我只...            186   \n",
       "2  钻石之泪耳机\\t盘锦到沈阳\\t旅顺公交\\t辽宁阜新车牌\\tbaidu\\tk715\\tk716...            104   \n",
       "3  最受欢迎狗狗排行榜\\t舶怎么读\\t场景描 写范例\\t三维绘图软件\\t枣和酸奶能一起吃吗\\t好...            173   \n",
       "4  干槽症能自愈吗\\t太太万岁叶舒心去没去美国\\t干槽症\\t右眼皮下面一直跳是怎么回事\\t麦当劳...            117   \n",
       "\n",
       "   avg_query_len  max_query_len  exist_space_or_comma_query_rate  \\\n",
       "0       8.654545             40                         0.036364   \n",
       "1       8.838710             28                         0.091398   \n",
       "2       5.740385             21                         0.019231   \n",
       "3       6.502890             20                         0.028902   \n",
       "4       8.649573             20                         0.059829   \n",
       "\n",
       "   exist_english_query_rate  exist_web_mail_query_rate  \\\n",
       "0                  0.105455                   0.058182   \n",
       "1                  0.053763                   0.000000   \n",
       "2                  0.125000                   0.000000   \n",
       "3                  0.034682                   0.000000   \n",
       "4                  0.119658                   0.000000   \n",
       "\n",
       "                                          count_word  \n",
       "0  柔和 双沟 女生 中财网 首页 财经 周公 解梦 大全 查询 2345 曹云金 再讽 郭德纲...  \n",
       "1  柔和 双沟 女生 中财网 首页 财经 周公 解梦 大全 查询 2345 曹云金 再讽 郭德纲...  \n",
       "2  柔和 双沟 女生 中财网 首页 财经 周公 解梦 大全 查询 2345 曹云金 再讽 郭德纲...  \n",
       "3  柔和 双沟 女生 中财网 首页 财经 周公 解梦 大全 查询 2345 曹云金 再讽 郭德纲...  \n",
       "4  柔和 双沟 女生 中财网 首页 财经 周公 解梦 大全 查询 2345 曹云金 再讽 郭德纲...  "
      ]
     },
     "execution_count": 57,
     "metadata": {},
     "output_type": "execute_result"
    }
   ],
   "source": [
    "train.loc[:,\"count_word\"] = train.loc[:0,\"Query_List\"].transform(lambda x: re.sub(\"|\".join([\"(?<=\\t)[:]*http\\S+(?=\\t)\",\"(?<=\\t)[A-Za-z0-9]+@[A-Za-z0-9.]+(?=\\t)\",\"(?<=\\t)ｗｗｗ\\S+(?=\\t)\",\"(?<=\\t)www\\S+(?=\\t)\",\"(?<=\\t)[0-9]{6,}(?=\\t)\"]),\"\",x))\\\n",
    "                            .transform(lambda x : [i for i in jieba.lcut(x) if len(i)>1])\\\n",
    "                            .transform(lambda x : \" \".join([i for i in x if i not in stopwords])).values\n",
    "train.head()"
   ]
  },
  {
   "cell_type": "markdown",
   "metadata": {},
   "source": [
    "### 由于上述步骤计算缓慢，在这儿，我们将数据进行保存"
   ]
  },
  {
   "cell_type": "code",
   "execution_count": 58,
   "metadata": {
    "ExecuteTime": {
     "end_time": "2020-03-27T13:04:41.611104Z",
     "start_time": "2020-03-27T13:04:30.800990Z"
    }
   },
   "outputs": [],
   "source": [
    "import os\n",
    "new_data_path = \"./new_data/\"\n",
    "if not os.path.exists(new_data_path):\n",
    "    os.system(\"mkdir {}\".format(new_data_path))\n",
    "train.to_csv(new_data_path+\"train_new.txt\")"
   ]
  },
  {
   "cell_type": "markdown",
   "metadata": {},
   "source": [
    "### 构建训练数据"
   ]
  },
  {
   "cell_type": "code",
   "execution_count": 59,
   "metadata": {
    "ExecuteTime": {
     "end_time": "2020-03-27T13:04:52.673763Z",
     "start_time": "2020-03-27T13:04:45.095023Z"
    }
   },
   "outputs": [],
   "source": [
    "train_df = pd.read_csv(\"./new_data/train_new.txt\")"
   ]
  },
  {
   "cell_type": "code",
   "execution_count": 60,
   "metadata": {
    "ExecuteTime": {
     "end_time": "2020-03-27T13:04:52.695707Z",
     "start_time": "2020-03-27T13:04:52.675760Z"
    }
   },
   "outputs": [
    {
     "data": {
      "text/html": [
       "<div>\n",
       "<style scoped>\n",
       "    .dataframe tbody tr th:only-of-type {\n",
       "        vertical-align: middle;\n",
       "    }\n",
       "\n",
       "    .dataframe tbody tr th {\n",
       "        vertical-align: top;\n",
       "    }\n",
       "\n",
       "    .dataframe thead th {\n",
       "        text-align: right;\n",
       "    }\n",
       "</style>\n",
       "<table border=\"1\" class=\"dataframe\">\n",
       "  <thead>\n",
       "    <tr style=\"text-align: right;\">\n",
       "      <th></th>\n",
       "      <th>Unnamed: 0</th>\n",
       "      <th>ID</th>\n",
       "      <th>Age</th>\n",
       "      <th>Gender</th>\n",
       "      <th>Education</th>\n",
       "      <th>Query_List</th>\n",
       "      <th>Query_Sum_num</th>\n",
       "      <th>avg_query_len</th>\n",
       "      <th>max_query_len</th>\n",
       "      <th>exist_space_or_comma_query_rate</th>\n",
       "      <th>exist_english_query_rate</th>\n",
       "      <th>exist_web_mail_query_rate</th>\n",
       "      <th>count_word</th>\n",
       "    </tr>\n",
       "  </thead>\n",
       "  <tbody>\n",
       "    <tr>\n",
       "      <th>0</th>\n",
       "      <td>0</td>\n",
       "      <td>22DD920316420BE2DF8D6EE651BA174B</td>\n",
       "      <td>1</td>\n",
       "      <td>1</td>\n",
       "      <td>4</td>\n",
       "      <td>柔和双沟\\t女生\\t中财网首页 财经\\thttp://pan.baidu.com/s/1pl...</td>\n",
       "      <td>275</td>\n",
       "      <td>8.654545</td>\n",
       "      <td>40</td>\n",
       "      <td>0.036364</td>\n",
       "      <td>0.105455</td>\n",
       "      <td>0.058182</td>\n",
       "      <td>柔和 双沟 女生 中财网 首页 财经 周公 解梦 大全 查询 2345 曹云金 再讽 郭德纲...</td>\n",
       "    </tr>\n",
       "    <tr>\n",
       "      <th>1</th>\n",
       "      <td>1</td>\n",
       "      <td>43CC3AF5A8D6430A3B572337A889AFE4</td>\n",
       "      <td>2</td>\n",
       "      <td>1</td>\n",
       "      <td>3</td>\n",
       "      <td>广州厨宝烤箱\\t世情薄,人情恶,雨送黄昏花易落,晓风干,泪痕\\t厦门酒店用品批发市场\\t我只...</td>\n",
       "      <td>186</td>\n",
       "      <td>8.838710</td>\n",
       "      <td>28</td>\n",
       "      <td>0.091398</td>\n",
       "      <td>0.053763</td>\n",
       "      <td>0.000000</td>\n",
       "      <td>柔和 双沟 女生 中财网 首页 财经 周公 解梦 大全 查询 2345 曹云金 再讽 郭德纲...</td>\n",
       "    </tr>\n",
       "    <tr>\n",
       "      <th>2</th>\n",
       "      <td>2</td>\n",
       "      <td>E97654BFF5570E2CCD433EA6128EAC19</td>\n",
       "      <td>4</td>\n",
       "      <td>1</td>\n",
       "      <td>0</td>\n",
       "      <td>钻石之泪耳机\\t盘锦到沈阳\\t旅顺公交\\t辽宁阜新车牌\\tbaidu\\tk715\\tk716...</td>\n",
       "      <td>104</td>\n",
       "      <td>5.740385</td>\n",
       "      <td>21</td>\n",
       "      <td>0.019231</td>\n",
       "      <td>0.125000</td>\n",
       "      <td>0.000000</td>\n",
       "      <td>柔和 双沟 女生 中财网 首页 财经 周公 解梦 大全 查询 2345 曹云金 再讽 郭德纲...</td>\n",
       "    </tr>\n",
       "    <tr>\n",
       "      <th>3</th>\n",
       "      <td>3</td>\n",
       "      <td>6931EFC26D229CCFCEA125D3F3C21E57</td>\n",
       "      <td>4</td>\n",
       "      <td>2</td>\n",
       "      <td>3</td>\n",
       "      <td>最受欢迎狗狗排行榜\\t舶怎么读\\t场景描 写范例\\t三维绘图软件\\t枣和酸奶能一起吃吗\\t好...</td>\n",
       "      <td>173</td>\n",
       "      <td>6.502890</td>\n",
       "      <td>20</td>\n",
       "      <td>0.028902</td>\n",
       "      <td>0.034682</td>\n",
       "      <td>0.000000</td>\n",
       "      <td>柔和 双沟 女生 中财网 首页 财经 周公 解梦 大全 查询 2345 曹云金 再讽 郭德纲...</td>\n",
       "    </tr>\n",
       "    <tr>\n",
       "      <th>4</th>\n",
       "      <td>4</td>\n",
       "      <td>E780470C3BB0D340334BD08CDCC3C71A</td>\n",
       "      <td>2</td>\n",
       "      <td>2</td>\n",
       "      <td>4</td>\n",
       "      <td>干槽症能自愈吗\\t太太万岁叶舒心去没去美国\\t干槽症\\t右眼皮下面一直跳是怎么回事\\t麦当劳...</td>\n",
       "      <td>117</td>\n",
       "      <td>8.649573</td>\n",
       "      <td>20</td>\n",
       "      <td>0.059829</td>\n",
       "      <td>0.119658</td>\n",
       "      <td>0.000000</td>\n",
       "      <td>柔和 双沟 女生 中财网 首页 财经 周公 解梦 大全 查询 2345 曹云金 再讽 郭德纲...</td>\n",
       "    </tr>\n",
       "  </tbody>\n",
       "</table>\n",
       "</div>"
      ],
      "text/plain": [
       "   Unnamed: 0                                ID  Age  Gender  Education  \\\n",
       "0           0  22DD920316420BE2DF8D6EE651BA174B    1       1          4   \n",
       "1           1  43CC3AF5A8D6430A3B572337A889AFE4    2       1          3   \n",
       "2           2  E97654BFF5570E2CCD433EA6128EAC19    4       1          0   \n",
       "3           3  6931EFC26D229CCFCEA125D3F3C21E57    4       2          3   \n",
       "4           4  E780470C3BB0D340334BD08CDCC3C71A    2       2          4   \n",
       "\n",
       "                                          Query_List  Query_Sum_num  \\\n",
       "0  柔和双沟\\t女生\\t中财网首页 财经\\thttp://pan.baidu.com/s/1pl...            275   \n",
       "1  广州厨宝烤箱\\t世情薄,人情恶,雨送黄昏花易落,晓风干,泪痕\\t厦门酒店用品批发市场\\t我只...            186   \n",
       "2  钻石之泪耳机\\t盘锦到沈阳\\t旅顺公交\\t辽宁阜新车牌\\tbaidu\\tk715\\tk716...            104   \n",
       "3  最受欢迎狗狗排行榜\\t舶怎么读\\t场景描 写范例\\t三维绘图软件\\t枣和酸奶能一起吃吗\\t好...            173   \n",
       "4  干槽症能自愈吗\\t太太万岁叶舒心去没去美国\\t干槽症\\t右眼皮下面一直跳是怎么回事\\t麦当劳...            117   \n",
       "\n",
       "   avg_query_len  max_query_len  exist_space_or_comma_query_rate  \\\n",
       "0       8.654545             40                         0.036364   \n",
       "1       8.838710             28                         0.091398   \n",
       "2       5.740385             21                         0.019231   \n",
       "3       6.502890             20                         0.028902   \n",
       "4       8.649573             20                         0.059829   \n",
       "\n",
       "   exist_english_query_rate  exist_web_mail_query_rate  \\\n",
       "0                  0.105455                   0.058182   \n",
       "1                  0.053763                   0.000000   \n",
       "2                  0.125000                   0.000000   \n",
       "3                  0.034682                   0.000000   \n",
       "4                  0.119658                   0.000000   \n",
       "\n",
       "                                          count_word  \n",
       "0  柔和 双沟 女生 中财网 首页 财经 周公 解梦 大全 查询 2345 曹云金 再讽 郭德纲...  \n",
       "1  柔和 双沟 女生 中财网 首页 财经 周公 解梦 大全 查询 2345 曹云金 再讽 郭德纲...  \n",
       "2  柔和 双沟 女生 中财网 首页 财经 周公 解梦 大全 查询 2345 曹云金 再讽 郭德纲...  \n",
       "3  柔和 双沟 女生 中财网 首页 财经 周公 解梦 大全 查询 2345 曹云金 再讽 郭德纲...  \n",
       "4  柔和 双沟 女生 中财网 首页 财经 周公 解梦 大全 查询 2345 曹云金 再讽 郭德纲...  "
      ]
     },
     "execution_count": 60,
     "metadata": {},
     "output_type": "execute_result"
    }
   ],
   "source": [
    "train_df.head()"
   ]
  },
  {
   "cell_type": "code",
   "execution_count": 66,
   "metadata": {
    "ExecuteTime": {
     "end_time": "2020-03-27T13:08:22.774303Z",
     "start_time": "2020-03-27T13:08:22.759342Z"
    }
   },
   "outputs": [],
   "source": [
    "train_array = train_df.loc[:,[\"count_word\",\"Age\",\"Gender\",\"Education\"]].values"
   ]
  },
  {
   "cell_type": "code",
   "execution_count": 101,
   "metadata": {
    "ExecuteTime": {
     "end_time": "2020-03-27T14:14:22.738299Z",
     "start_time": "2020-03-27T14:14:19.891785Z"
    }
   },
   "outputs": [],
   "source": [
    "train_x_y = list(map(lambda x: (x[0],[x[1],x[2],x[3]]),train_array))"
   ]
  },
  {
   "cell_type": "code",
   "execution_count": 102,
   "metadata": {
    "ExecuteTime": {
     "end_time": "2020-03-27T14:14:22.961751Z",
     "start_time": "2020-03-27T14:14:22.740249Z"
    }
   },
   "outputs": [],
   "source": [
    "import random\n",
    "random.shuffle(train_x_y)"
   ]
  },
  {
   "cell_type": "markdown",
   "metadata": {},
   "source": [
    "### 训练集测试集的切分"
   ]
  },
  {
   "cell_type": "code",
   "execution_count": 103,
   "metadata": {
    "ExecuteTime": {
     "end_time": "2020-03-27T14:14:24.654322Z",
     "start_time": "2020-03-27T14:14:24.363019Z"
    }
   },
   "outputs": [],
   "source": [
    "from sklearn.model_selection import train_test_split\n",
    "x,label = zip(*train_x_y)\n",
    "x_train, x_test, y_train, y_test = train_test_split(x,label,test_size=0.33)"
   ]
  },
  {
   "cell_type": "code",
   "execution_count": 108,
   "metadata": {
    "ExecuteTime": {
     "end_time": "2020-03-27T14:55:30.274698Z",
     "start_time": "2020-03-27T14:55:30.084227Z"
    }
   },
   "outputs": [],
   "source": [
    "train_label = np.array(y_train)\n",
    "test_label = np.array(y_test)\n",
    "age_label_train,gender_label_train,education_label_train = train_label[:,0],train_label[:,1],train_label[:,2]\n",
    "age_label_test,gender_label_test,education_label_test = test_label[:,0],test_label[:,1],test_label[:,2]"
   ]
  },
  {
   "cell_type": "markdown",
   "metadata": {},
   "source": [
    "## 特征提取"
   ]
  },
  {
   "cell_type": "code",
   "execution_count": 109,
   "metadata": {
    "ExecuteTime": {
     "end_time": "2020-03-27T14:55:36.615219Z",
     "start_time": "2020-03-27T14:55:36.601255Z"
    }
   },
   "outputs": [],
   "source": [
    "from sklearn.feature_extraction.text import CountVectorizer\n",
    "vec = CountVectorizer(analyzer='word', # tokenise by character ngram\n",
    "                        ngram_range=(1,4),  # use ngrams of size 1, 2, 3, 4\\\n",
    "                        max_features=20000,  # keep the most common 2000 ngrams\n",
    "                        )"
   ]
  },
  {
   "cell_type": "code",
   "execution_count": 110,
   "metadata": {
    "ExecuteTime": {
     "end_time": "2020-03-27T14:58:02.678803Z",
     "start_time": "2020-03-27T14:55:37.255835Z"
    }
   },
   "outputs": [
    {
     "data": {
      "text/plain": [
       "CountVectorizer(analyzer='word', binary=False, decode_error='strict',\n",
       "        dtype=<class 'numpy.int64'>, encoding='utf-8', input='content',\n",
       "        lowercase=True, max_df=1.0, max_features=20000, min_df=1,\n",
       "        ngram_range=(1, 4), preprocessor=None, stop_words=None,\n",
       "        strip_accents=None, token_pattern='(?u)\\\\b\\\\w\\\\w+\\\\b',\n",
       "        tokenizer=None, vocabulary=None)"
      ]
     },
     "execution_count": 110,
     "metadata": {},
     "output_type": "execute_result"
    }
   ],
   "source": [
    "vec.fit(x_train)"
   ]
  },
  {
   "cell_type": "markdown",
   "metadata": {},
   "source": [
    "## 模型构建"
   ]
  },
  {
   "cell_type": "markdown",
   "metadata": {},
   "source": [
    "### 朴素贝叶斯"
   ]
  },
  {
   "cell_type": "markdown",
   "metadata": {},
   "source": [
    "#### 年龄(准确率：0.39)"
   ]
  },
  {
   "cell_type": "code",
   "execution_count": 95,
   "metadata": {
    "ExecuteTime": {
     "end_time": "2020-03-27T13:34:51.741308Z",
     "start_time": "2020-03-27T13:30:56.837656Z"
    }
   },
   "outputs": [
    {
     "data": {
      "text/plain": [
       "0.39081818181818184"
      ]
     },
     "execution_count": 95,
     "metadata": {},
     "output_type": "execute_result"
    }
   ],
   "source": [
    "from sklearn.naive_bayes import MultinomialNB\n",
    "classifier = MultinomialNB()\n",
    "classifier.fit(vec.transform(x_train), age_label_train)\n",
    "classifier.score(vec.transform(x_test), age_label_test)"
   ]
  },
  {
   "cell_type": "markdown",
   "metadata": {},
   "source": [
    "#### 性别（准确率：0.57）"
   ]
  },
  {
   "cell_type": "code",
   "execution_count": 96,
   "metadata": {
    "ExecuteTime": {
     "end_time": "2020-03-27T13:39:44.560638Z",
     "start_time": "2020-03-27T13:35:53.569442Z"
    }
   },
   "outputs": [
    {
     "data": {
      "text/plain": [
       "0.5668484848484848"
      ]
     },
     "execution_count": 96,
     "metadata": {},
     "output_type": "execute_result"
    }
   ],
   "source": [
    "classifier.fit(vec.transform(x_train), gender_label_train)\n",
    "classifier.score(vec.transform(x_test), gender_label_test)"
   ]
  },
  {
   "cell_type": "markdown",
   "metadata": {},
   "source": [
    "#### 教育程度（准确率：0.37）"
   ]
  },
  {
   "cell_type": "code",
   "execution_count": 97,
   "metadata": {
    "ExecuteTime": {
     "end_time": "2020-03-27T13:43:39.222412Z",
     "start_time": "2020-03-27T13:39:44.563628Z"
    }
   },
   "outputs": [
    {
     "data": {
      "text/plain": [
       "0.37372727272727274"
      ]
     },
     "execution_count": 97,
     "metadata": {},
     "output_type": "execute_result"
    }
   ],
   "source": [
    "classifier.fit(vec.transform(x_train), education_label_train)\n",
    "classifier.score(vec.transform(x_test), education_label_test)"
   ]
  },
  {
   "cell_type": "markdown",
   "metadata": {},
   "source": [
    "### 交叉验证"
   ]
  },
  {
   "cell_type": "markdown",
   "metadata": {},
   "source": [
    "#### 年龄（准确率：0.0056）"
   ]
  },
  {
   "cell_type": "code",
   "execution_count": 105,
   "metadata": {
    "ExecuteTime": {
     "end_time": "2020-03-27T14:24:18.552652Z",
     "start_time": "2020-03-27T14:14:47.628646Z"
    }
   },
   "outputs": [
    {
     "name": "stdout",
     "output_type": "stream",
     "text": [
      "0.05570857142857143\n"
     ]
    }
   ],
   "source": [
    "from sklearn.model_selection import StratifiedKFold\n",
    "from sklearn.metrics import accuracy_score, precision_score\n",
    "\n",
    "vec.fit(x)\n",
    "\n",
    "def stratifiedkfold_cv(x, y, clf_class, shuffle=True, n_folds=5, **kwargs):\n",
    "    stratifiedk_fold = StratifiedKFold(n_splits=n_folds, shuffle=shuffle)\n",
    "    y_pred = y[:]\n",
    "    for train_index, test_index in stratifiedk_fold.split(x, y):\n",
    "        X_train, X_test = x[train_index], x[test_index]\n",
    "        y_train = y[train_index]\n",
    "        clf = clf_class(**kwargs)\n",
    "        clf.fit(X_train,y_train)\n",
    "        y_pred[test_index] = clf.predict(X_test)\n",
    "    return y_pred \n",
    "\n",
    "NB = MultinomialNB\n",
    "print(precision_score(np.array(label)[:,0], stratifiedkfold_cv(vec.transform(x),np.array(label)[:,0],NB), average='macro'))"
   ]
  },
  {
   "cell_type": "markdown",
   "metadata": {},
   "source": [
    "#### 性别（准确率：0.18992）"
   ]
  },
  {
   "cell_type": "code",
   "execution_count": 106,
   "metadata": {
    "ExecuteTime": {
     "end_time": "2020-03-27T14:33:28.889190Z",
     "start_time": "2020-03-27T14:27:38.096415Z"
    }
   },
   "outputs": [
    {
     "name": "stdout",
     "output_type": "stream",
     "text": [
      "0.18992\n"
     ]
    }
   ],
   "source": [
    "print(precision_score(np.array(label)[:,1], stratifiedkfold_cv(vec.transform(x),np.array(label)[:,1],NB), average='macro'))"
   ]
  },
  {
   "cell_type": "markdown",
   "metadata": {},
   "source": [
    "#### 教育程度（准确率：0.05301）"
   ]
  },
  {
   "cell_type": "code",
   "execution_count": 107,
   "metadata": {
    "ExecuteTime": {
     "end_time": "2020-03-27T14:39:20.921091Z",
     "start_time": "2020-03-27T14:33:28.959002Z"
    }
   },
   "outputs": [
    {
     "name": "stdout",
     "output_type": "stream",
     "text": [
      "0.05301\n"
     ]
    }
   ],
   "source": [
    "print(precision_score(np.array(label)[:,2], stratifiedkfold_cv(vec.transform(x),np.array(label)[:,2],NB), average='macro'))"
   ]
  },
  {
   "cell_type": "markdown",
   "metadata": {},
   "source": [
    "### SVM"
   ]
  },
  {
   "cell_type": "code",
   "execution_count": null,
   "metadata": {
    "ExecuteTime": {
     "start_time": "2020-03-27T14:58:35.545Z"
    }
   },
   "outputs": [],
   "source": [
    "from sklearn.svm import SVC\n",
    "svm = SVC(kernel='linear')\n",
    "svm.fit(vec.transform(x_train), age_label_train)\n",
    "svm.score(vec.transform(x_test), age_label_test)"
   ]
  },
  {
   "cell_type": "markdown",
   "metadata": {},
   "source": [
    "根据现有的结果，机器学习做能做的就是，就是对结果分词，之后进行预测；然而，对于网址信息、邮箱信息、空格等信息的加入需要进一步考虑，对于他们，是否直接放进去就可以了呢？\n",
    "\n",
    "预知后事如何，窃听"
   ]
  }
 ],
 "metadata": {
  "kernelspec": {
   "display_name": "Python 3",
   "language": "python",
   "name": "python3"
  },
  "language_info": {
   "codemirror_mode": {
    "name": "ipython",
    "version": 3
   },
   "file_extension": ".py",
   "mimetype": "text/x-python",
   "name": "python",
   "nbconvert_exporter": "python",
   "pygments_lexer": "ipython3",
   "version": "3.6.9"
  },
  "latex_envs": {
   "LaTeX_envs_menu_present": true,
   "autoclose": true,
   "autocomplete": true,
   "bibliofile": "biblio.bib",
   "cite_by": "apalike",
   "current_citInitial": 1,
   "eqLabelWithNumbers": true,
   "eqNumInitial": 1,
   "hotkeys": {
    "equation": "Ctrl-E",
    "itemize": "Ctrl-I"
   },
   "labels_anchors": false,
   "latex_user_defs": false,
   "report_style_numbering": false,
   "user_envs_cfg": true
  },
  "toc": {
   "base_numbering": 1,
   "nav_menu": {},
   "number_sections": false,
   "sideBar": true,
   "skip_h1_title": false,
   "title_cell": "Table of Contents",
   "title_sidebar": "Contents",
   "toc_cell": false,
   "toc_position": {
    "height": "calc(100% - 180px)",
    "left": "10px",
    "top": "150px",
    "width": "228.8px"
   },
   "toc_section_display": true,
   "toc_window_display": true
  }
 },
 "nbformat": 4,
 "nbformat_minor": 2
}
